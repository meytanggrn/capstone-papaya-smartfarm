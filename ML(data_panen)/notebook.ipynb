{
  "nbformat": 4,
  "nbformat_minor": 0,
  "metadata": {
    "colab": {
      "provenance": []
    },
    "kernelspec": {
      "name": "python3",
      "display_name": "Python 3"
    },
    "language_info": {
      "name": "python"
    }
  },
  "cells": [
    {
      "cell_type": "markdown",
      "source": [
        "## Import Package/Library"
      ],
      "metadata": {
        "id": "PSO0ovfoYHrE"
      }
    },
    {
      "cell_type": "code",
      "execution_count": 22,
      "metadata": {
        "id": "E9t9zTrcuWYJ"
      },
      "outputs": [],
      "source": [
        "import os\n",
        "import pandas as pd\n",
        "import numpy as np\n",
        "import tensorflow as tf\n",
        "from sklearn.model_selection import train_test_split\n",
        "from sklearn.preprocessing import StandardScaler\n",
        "from sklearn.metrics import r2_score, mean_absolute_error\n",
        "import matplotlib.pyplot as plt\n",
        "import tensorflowjs as tfjs"
      ]
    },
    {
      "cell_type": "markdown",
      "source": [
        "## Data Preprocessing"
      ],
      "metadata": {
        "id": "MN6LtQ8KYL8F"
      }
    },
    {
      "cell_type": "markdown",
      "source": [
        "### Load Data"
      ],
      "metadata": {
        "id": "zLz6AGdtYOx9"
      }
    },
    {
      "cell_type": "code",
      "source": [
        "df = pd.read_excel('dataset_tanaman_papaya.xlsx', sheet_name='Simple Data')"
      ],
      "metadata": {
        "id": "hcHLmssbu1Lf"
      },
      "execution_count": 3,
      "outputs": []
    },
    {
      "cell_type": "markdown",
      "source": [
        "### EDA"
      ],
      "metadata": {
        "id": "wtlaO7bGYRe4"
      }
    },
    {
      "cell_type": "code",
      "source": [
        "df.head()"
      ],
      "metadata": {
        "colab": {
          "base_uri": "https://localhost:8080/",
          "height": 243
        },
        "id": "RnpRk6pyu5ky",
        "outputId": "a2c41f64-9912-466b-a422-6b6e5938cd52"
      },
      "execution_count": 4,
      "outputs": [
        {
          "output_type": "execute_result",
          "data": {
            "text/plain": [
              "       Time        Date  Intensitas Cahaya  Kelembaban Tanah  Humidity  \\\n",
              "0  20:14:44  27/05/2025               2017              4003      0.91   \n",
              "1  20:14:44  27/05/2025               2032              4054      0.91   \n",
              "2  20:14:45  27/05/2025               2027              4021      0.91   \n",
              "3  20:14:45  27/05/2025               2010              4066      0.91   \n",
              "4  20:14:45  27/05/2025               1936              4023      0.91   \n",
              "\n",
              "  Temperature   Bulan  \n",
              "0     28,50°C  4.3808  \n",
              "1     28,50°C  4.4213  \n",
              "2     28,50°C  4.3998  \n",
              "3     28,50°C  4.4053  \n",
              "4     28,50°C  4.3098  "
            ],
            "text/html": [
              "\n",
              "  <div id=\"df-49486cd3-b757-47c0-bd06-d814e28fb3d5\" class=\"colab-df-container\">\n",
              "    <div>\n",
              "<style scoped>\n",
              "    .dataframe tbody tr th:only-of-type {\n",
              "        vertical-align: middle;\n",
              "    }\n",
              "\n",
              "    .dataframe tbody tr th {\n",
              "        vertical-align: top;\n",
              "    }\n",
              "\n",
              "    .dataframe thead th {\n",
              "        text-align: right;\n",
              "    }\n",
              "</style>\n",
              "<table border=\"1\" class=\"dataframe\">\n",
              "  <thead>\n",
              "    <tr style=\"text-align: right;\">\n",
              "      <th></th>\n",
              "      <th>Time</th>\n",
              "      <th>Date</th>\n",
              "      <th>Intensitas Cahaya</th>\n",
              "      <th>Kelembaban Tanah</th>\n",
              "      <th>Humidity</th>\n",
              "      <th>Temperature</th>\n",
              "      <th>Bulan</th>\n",
              "    </tr>\n",
              "  </thead>\n",
              "  <tbody>\n",
              "    <tr>\n",
              "      <th>0</th>\n",
              "      <td>20:14:44</td>\n",
              "      <td>27/05/2025</td>\n",
              "      <td>2017</td>\n",
              "      <td>4003</td>\n",
              "      <td>0.91</td>\n",
              "      <td>28,50°C</td>\n",
              "      <td>4.3808</td>\n",
              "    </tr>\n",
              "    <tr>\n",
              "      <th>1</th>\n",
              "      <td>20:14:44</td>\n",
              "      <td>27/05/2025</td>\n",
              "      <td>2032</td>\n",
              "      <td>4054</td>\n",
              "      <td>0.91</td>\n",
              "      <td>28,50°C</td>\n",
              "      <td>4.4213</td>\n",
              "    </tr>\n",
              "    <tr>\n",
              "      <th>2</th>\n",
              "      <td>20:14:45</td>\n",
              "      <td>27/05/2025</td>\n",
              "      <td>2027</td>\n",
              "      <td>4021</td>\n",
              "      <td>0.91</td>\n",
              "      <td>28,50°C</td>\n",
              "      <td>4.3998</td>\n",
              "    </tr>\n",
              "    <tr>\n",
              "      <th>3</th>\n",
              "      <td>20:14:45</td>\n",
              "      <td>27/05/2025</td>\n",
              "      <td>2010</td>\n",
              "      <td>4066</td>\n",
              "      <td>0.91</td>\n",
              "      <td>28,50°C</td>\n",
              "      <td>4.4053</td>\n",
              "    </tr>\n",
              "    <tr>\n",
              "      <th>4</th>\n",
              "      <td>20:14:45</td>\n",
              "      <td>27/05/2025</td>\n",
              "      <td>1936</td>\n",
              "      <td>4023</td>\n",
              "      <td>0.91</td>\n",
              "      <td>28,50°C</td>\n",
              "      <td>4.3098</td>\n",
              "    </tr>\n",
              "  </tbody>\n",
              "</table>\n",
              "</div>\n",
              "    <div class=\"colab-df-buttons\">\n",
              "\n",
              "  <div class=\"colab-df-container\">\n",
              "    <button class=\"colab-df-convert\" onclick=\"convertToInteractive('df-49486cd3-b757-47c0-bd06-d814e28fb3d5')\"\n",
              "            title=\"Convert this dataframe to an interactive table.\"\n",
              "            style=\"display:none;\">\n",
              "\n",
              "  <svg xmlns=\"http://www.w3.org/2000/svg\" height=\"24px\" viewBox=\"0 -960 960 960\">\n",
              "    <path d=\"M120-120v-720h720v720H120Zm60-500h600v-160H180v160Zm220 220h160v-160H400v160Zm0 220h160v-160H400v160ZM180-400h160v-160H180v160Zm440 0h160v-160H620v160ZM180-180h160v-160H180v160Zm440 0h160v-160H620v160Z\"/>\n",
              "  </svg>\n",
              "    </button>\n",
              "\n",
              "  <style>\n",
              "    .colab-df-container {\n",
              "      display:flex;\n",
              "      gap: 12px;\n",
              "    }\n",
              "\n",
              "    .colab-df-convert {\n",
              "      background-color: #E8F0FE;\n",
              "      border: none;\n",
              "      border-radius: 50%;\n",
              "      cursor: pointer;\n",
              "      display: none;\n",
              "      fill: #1967D2;\n",
              "      height: 32px;\n",
              "      padding: 0 0 0 0;\n",
              "      width: 32px;\n",
              "    }\n",
              "\n",
              "    .colab-df-convert:hover {\n",
              "      background-color: #E2EBFA;\n",
              "      box-shadow: 0px 1px 2px rgba(60, 64, 67, 0.3), 0px 1px 3px 1px rgba(60, 64, 67, 0.15);\n",
              "      fill: #174EA6;\n",
              "    }\n",
              "\n",
              "    .colab-df-buttons div {\n",
              "      margin-bottom: 4px;\n",
              "    }\n",
              "\n",
              "    [theme=dark] .colab-df-convert {\n",
              "      background-color: #3B4455;\n",
              "      fill: #D2E3FC;\n",
              "    }\n",
              "\n",
              "    [theme=dark] .colab-df-convert:hover {\n",
              "      background-color: #434B5C;\n",
              "      box-shadow: 0px 1px 3px 1px rgba(0, 0, 0, 0.15);\n",
              "      filter: drop-shadow(0px 1px 2px rgba(0, 0, 0, 0.3));\n",
              "      fill: #FFFFFF;\n",
              "    }\n",
              "  </style>\n",
              "\n",
              "    <script>\n",
              "      const buttonEl =\n",
              "        document.querySelector('#df-49486cd3-b757-47c0-bd06-d814e28fb3d5 button.colab-df-convert');\n",
              "      buttonEl.style.display =\n",
              "        google.colab.kernel.accessAllowed ? 'block' : 'none';\n",
              "\n",
              "      async function convertToInteractive(key) {\n",
              "        const element = document.querySelector('#df-49486cd3-b757-47c0-bd06-d814e28fb3d5');\n",
              "        const dataTable =\n",
              "          await google.colab.kernel.invokeFunction('convertToInteractive',\n",
              "                                                    [key], {});\n",
              "        if (!dataTable) return;\n",
              "\n",
              "        const docLinkHtml = 'Like what you see? Visit the ' +\n",
              "          '<a target=\"_blank\" href=https://colab.research.google.com/notebooks/data_table.ipynb>data table notebook</a>'\n",
              "          + ' to learn more about interactive tables.';\n",
              "        element.innerHTML = '';\n",
              "        dataTable['output_type'] = 'display_data';\n",
              "        await google.colab.output.renderOutput(dataTable, element);\n",
              "        const docLink = document.createElement('div');\n",
              "        docLink.innerHTML = docLinkHtml;\n",
              "        element.appendChild(docLink);\n",
              "      }\n",
              "    </script>\n",
              "  </div>\n",
              "\n",
              "\n",
              "    <div id=\"df-f14af99c-e17e-442e-865c-ab752acfd3bd\">\n",
              "      <button class=\"colab-df-quickchart\" onclick=\"quickchart('df-f14af99c-e17e-442e-865c-ab752acfd3bd')\"\n",
              "                title=\"Suggest charts\"\n",
              "                style=\"display:none;\">\n",
              "\n",
              "<svg xmlns=\"http://www.w3.org/2000/svg\" height=\"24px\"viewBox=\"0 0 24 24\"\n",
              "     width=\"24px\">\n",
              "    <g>\n",
              "        <path d=\"M19 3H5c-1.1 0-2 .9-2 2v14c0 1.1.9 2 2 2h14c1.1 0 2-.9 2-2V5c0-1.1-.9-2-2-2zM9 17H7v-7h2v7zm4 0h-2V7h2v10zm4 0h-2v-4h2v4z\"/>\n",
              "    </g>\n",
              "</svg>\n",
              "      </button>\n",
              "\n",
              "<style>\n",
              "  .colab-df-quickchart {\n",
              "      --bg-color: #E8F0FE;\n",
              "      --fill-color: #1967D2;\n",
              "      --hover-bg-color: #E2EBFA;\n",
              "      --hover-fill-color: #174EA6;\n",
              "      --disabled-fill-color: #AAA;\n",
              "      --disabled-bg-color: #DDD;\n",
              "  }\n",
              "\n",
              "  [theme=dark] .colab-df-quickchart {\n",
              "      --bg-color: #3B4455;\n",
              "      --fill-color: #D2E3FC;\n",
              "      --hover-bg-color: #434B5C;\n",
              "      --hover-fill-color: #FFFFFF;\n",
              "      --disabled-bg-color: #3B4455;\n",
              "      --disabled-fill-color: #666;\n",
              "  }\n",
              "\n",
              "  .colab-df-quickchart {\n",
              "    background-color: var(--bg-color);\n",
              "    border: none;\n",
              "    border-radius: 50%;\n",
              "    cursor: pointer;\n",
              "    display: none;\n",
              "    fill: var(--fill-color);\n",
              "    height: 32px;\n",
              "    padding: 0;\n",
              "    width: 32px;\n",
              "  }\n",
              "\n",
              "  .colab-df-quickchart:hover {\n",
              "    background-color: var(--hover-bg-color);\n",
              "    box-shadow: 0 1px 2px rgba(60, 64, 67, 0.3), 0 1px 3px 1px rgba(60, 64, 67, 0.15);\n",
              "    fill: var(--button-hover-fill-color);\n",
              "  }\n",
              "\n",
              "  .colab-df-quickchart-complete:disabled,\n",
              "  .colab-df-quickchart-complete:disabled:hover {\n",
              "    background-color: var(--disabled-bg-color);\n",
              "    fill: var(--disabled-fill-color);\n",
              "    box-shadow: none;\n",
              "  }\n",
              "\n",
              "  .colab-df-spinner {\n",
              "    border: 2px solid var(--fill-color);\n",
              "    border-color: transparent;\n",
              "    border-bottom-color: var(--fill-color);\n",
              "    animation:\n",
              "      spin 1s steps(1) infinite;\n",
              "  }\n",
              "\n",
              "  @keyframes spin {\n",
              "    0% {\n",
              "      border-color: transparent;\n",
              "      border-bottom-color: var(--fill-color);\n",
              "      border-left-color: var(--fill-color);\n",
              "    }\n",
              "    20% {\n",
              "      border-color: transparent;\n",
              "      border-left-color: var(--fill-color);\n",
              "      border-top-color: var(--fill-color);\n",
              "    }\n",
              "    30% {\n",
              "      border-color: transparent;\n",
              "      border-left-color: var(--fill-color);\n",
              "      border-top-color: var(--fill-color);\n",
              "      border-right-color: var(--fill-color);\n",
              "    }\n",
              "    40% {\n",
              "      border-color: transparent;\n",
              "      border-right-color: var(--fill-color);\n",
              "      border-top-color: var(--fill-color);\n",
              "    }\n",
              "    60% {\n",
              "      border-color: transparent;\n",
              "      border-right-color: var(--fill-color);\n",
              "    }\n",
              "    80% {\n",
              "      border-color: transparent;\n",
              "      border-right-color: var(--fill-color);\n",
              "      border-bottom-color: var(--fill-color);\n",
              "    }\n",
              "    90% {\n",
              "      border-color: transparent;\n",
              "      border-bottom-color: var(--fill-color);\n",
              "    }\n",
              "  }\n",
              "</style>\n",
              "\n",
              "      <script>\n",
              "        async function quickchart(key) {\n",
              "          const quickchartButtonEl =\n",
              "            document.querySelector('#' + key + ' button');\n",
              "          quickchartButtonEl.disabled = true;  // To prevent multiple clicks.\n",
              "          quickchartButtonEl.classList.add('colab-df-spinner');\n",
              "          try {\n",
              "            const charts = await google.colab.kernel.invokeFunction(\n",
              "                'suggestCharts', [key], {});\n",
              "          } catch (error) {\n",
              "            console.error('Error during call to suggestCharts:', error);\n",
              "          }\n",
              "          quickchartButtonEl.classList.remove('colab-df-spinner');\n",
              "          quickchartButtonEl.classList.add('colab-df-quickchart-complete');\n",
              "        }\n",
              "        (() => {\n",
              "          let quickchartButtonEl =\n",
              "            document.querySelector('#df-f14af99c-e17e-442e-865c-ab752acfd3bd button');\n",
              "          quickchartButtonEl.style.display =\n",
              "            google.colab.kernel.accessAllowed ? 'block' : 'none';\n",
              "        })();\n",
              "      </script>\n",
              "    </div>\n",
              "\n",
              "    </div>\n",
              "  </div>\n"
            ],
            "application/vnd.google.colaboratory.intrinsic+json": {
              "type": "dataframe",
              "variable_name": "df",
              "summary": "{\n  \"name\": \"df\",\n  \"rows\": 10359,\n  \"fields\": [\n    {\n      \"column\": \"Time\",\n      \"properties\": {\n        \"dtype\": \"category\",\n        \"num_unique_values\": 2623,\n        \"samples\": [\n          \"20:29:00\",\n          \"20:45:51\",\n          \"20:25:35\"\n        ],\n        \"semantic_type\": \"\",\n        \"description\": \"\"\n      }\n    },\n    {\n      \"column\": \"Date\",\n      \"properties\": {\n        \"dtype\": \"object\",\n        \"num_unique_values\": 1,\n        \"samples\": [\n          \"27/05/2025\"\n        ],\n        \"semantic_type\": \"\",\n        \"description\": \"\"\n      }\n    },\n    {\n      \"column\": \"Intensitas Cahaya\",\n      \"properties\": {\n        \"dtype\": \"number\",\n        \"std\": 369,\n        \"min\": 199,\n        \"max\": 4095,\n        \"num_unique_values\": 823,\n        \"samples\": [\n          3634\n        ],\n        \"semantic_type\": \"\",\n        \"description\": \"\"\n      }\n    },\n    {\n      \"column\": \"Kelembaban Tanah\",\n      \"properties\": {\n        \"dtype\": \"number\",\n        \"std\": 387,\n        \"min\": 675,\n        \"max\": 4095,\n        \"num_unique_values\": 1036,\n        \"samples\": [\n          1572\n        ],\n        \"semantic_type\": \"\",\n        \"description\": \"\"\n      }\n    },\n    {\n      \"column\": \"Humidity\",\n      \"properties\": {\n        \"dtype\": \"number\",\n        \"std\": 0.19769944322193153,\n        \"min\": 0.21,\n        \"max\": 0.93,\n        \"num_unique_values\": 72,\n        \"samples\": [\n          0.84\n        ],\n        \"semantic_type\": \"\",\n        \"description\": \"\"\n      }\n    },\n    {\n      \"column\": \"Temperature\",\n      \"properties\": {\n        \"dtype\": \"category\",\n        \"num_unique_values\": 164,\n        \"samples\": [\n          \"29,00\\u00b0C\"\n        ],\n        \"semantic_type\": \"\",\n        \"description\": \"\"\n      }\n    },\n    {\n      \"column\": \"Bulan\",\n      \"properties\": {\n        \"dtype\": \"number\",\n        \"std\": 0.4220572262298135,\n        \"min\": 1.8417,\n        \"max\": 6.5056,\n        \"num_unique_values\": 4292,\n        \"samples\": [\n          2.7602\n        ],\n        \"semantic_type\": \"\",\n        \"description\": \"\"\n      }\n    }\n  ]\n}"
            }
          },
          "metadata": {},
          "execution_count": 4
        }
      ]
    },
    {
      "cell_type": "markdown",
      "source": [
        "> Data diatas memberikan gambaran visual pertama tentang bagaimana data Anda tersusun. Kita bisa langsung melihat nama-nama kolom seperti Intensitas Cahaya, Temperature, dll., beserta contoh isinya. Dari sini kita bisa melihat format data awal, contohnya kolom Temperature yang berisi teks \"28,50°C\".\n"
      ],
      "metadata": {
        "id": "0ahUAR86bZsn"
      }
    },
    {
      "cell_type": "code",
      "source": [
        "df.info()"
      ],
      "metadata": {
        "colab": {
          "base_uri": "https://localhost:8080/"
        },
        "id": "CcMjEQJYu8ts",
        "outputId": "e160c360-c15f-4f23-96d9-daaed47b8e9b"
      },
      "execution_count": 5,
      "outputs": [
        {
          "output_type": "stream",
          "name": "stdout",
          "text": [
            "<class 'pandas.core.frame.DataFrame'>\n",
            "RangeIndex: 10359 entries, 0 to 10358\n",
            "Data columns (total 7 columns):\n",
            " #   Column             Non-Null Count  Dtype  \n",
            "---  ------             --------------  -----  \n",
            " 0   Time               10359 non-null  object \n",
            " 1   Date               10359 non-null  object \n",
            " 2   Intensitas Cahaya  10359 non-null  int64  \n",
            " 3   Kelembaban Tanah   10359 non-null  int64  \n",
            " 4   Humidity           10359 non-null  float64\n",
            " 5   Temperature        10359 non-null  object \n",
            " 6   Bulan              10359 non-null  float64\n",
            "dtypes: float64(2), int64(2), object(3)\n",
            "memory usage: 566.6+ KB\n"
          ]
        }
      ]
    },
    {
      "cell_type": "markdown",
      "source": [
        "> - Dari kode diatas didapatkan bahwa data terdiri dari 10359 baris dan 7 kolom.\n",
        "- Kolom \"Non-Null Count\" menunjukkan semua baris terisi penuh (10359 non-null).\n",
        "- Kolom Temperature terdeteksi sebagai object (teks/string), bukan angka. Model matematika tidak bisa mengolah teks, jadi ini mengonfirmasi bahwa langkah pembersihan data yang kita lakukan untuk kolom Temperature itu wajib."
      ],
      "metadata": {
        "id": "3SvCHaznbxa9"
      }
    },
    {
      "cell_type": "code",
      "source": [
        "df.describe()"
      ],
      "metadata": {
        "colab": {
          "base_uri": "https://localhost:8080/",
          "height": 300
        },
        "id": "1Tfu0wi_u-nk",
        "outputId": "bba04d9b-0727-4759-d331-6a2b997b11ed"
      },
      "execution_count": 6,
      "outputs": [
        {
          "output_type": "execute_result",
          "data": {
            "text/plain": [
              "       Intensitas Cahaya  Kelembaban Tanah      Humidity         Bulan\n",
              "count       10359.000000      10359.000000  10359.000000  10359.000000\n",
              "mean         1356.603437       2033.608746      0.729141      2.752419\n",
              "std           369.817785        387.271529      0.197699      0.422057\n",
              "min           199.000000        675.000000      0.210000      1.841700\n",
              "25%          1203.000000       1827.000000      0.660000      2.574900\n",
              "50%          1211.000000       1927.000000      0.790000      2.661900\n",
              "75%          1383.000000       2224.000000      0.890000      2.745950\n",
              "max          4095.000000       4095.000000      0.930000      6.505600"
            ],
            "text/html": [
              "\n",
              "  <div id=\"df-61af2b3c-5569-4a3d-8aa2-b93647904075\" class=\"colab-df-container\">\n",
              "    <div>\n",
              "<style scoped>\n",
              "    .dataframe tbody tr th:only-of-type {\n",
              "        vertical-align: middle;\n",
              "    }\n",
              "\n",
              "    .dataframe tbody tr th {\n",
              "        vertical-align: top;\n",
              "    }\n",
              "\n",
              "    .dataframe thead th {\n",
              "        text-align: right;\n",
              "    }\n",
              "</style>\n",
              "<table border=\"1\" class=\"dataframe\">\n",
              "  <thead>\n",
              "    <tr style=\"text-align: right;\">\n",
              "      <th></th>\n",
              "      <th>Intensitas Cahaya</th>\n",
              "      <th>Kelembaban Tanah</th>\n",
              "      <th>Humidity</th>\n",
              "      <th>Bulan</th>\n",
              "    </tr>\n",
              "  </thead>\n",
              "  <tbody>\n",
              "    <tr>\n",
              "      <th>count</th>\n",
              "      <td>10359.000000</td>\n",
              "      <td>10359.000000</td>\n",
              "      <td>10359.000000</td>\n",
              "      <td>10359.000000</td>\n",
              "    </tr>\n",
              "    <tr>\n",
              "      <th>mean</th>\n",
              "      <td>1356.603437</td>\n",
              "      <td>2033.608746</td>\n",
              "      <td>0.729141</td>\n",
              "      <td>2.752419</td>\n",
              "    </tr>\n",
              "    <tr>\n",
              "      <th>std</th>\n",
              "      <td>369.817785</td>\n",
              "      <td>387.271529</td>\n",
              "      <td>0.197699</td>\n",
              "      <td>0.422057</td>\n",
              "    </tr>\n",
              "    <tr>\n",
              "      <th>min</th>\n",
              "      <td>199.000000</td>\n",
              "      <td>675.000000</td>\n",
              "      <td>0.210000</td>\n",
              "      <td>1.841700</td>\n",
              "    </tr>\n",
              "    <tr>\n",
              "      <th>25%</th>\n",
              "      <td>1203.000000</td>\n",
              "      <td>1827.000000</td>\n",
              "      <td>0.660000</td>\n",
              "      <td>2.574900</td>\n",
              "    </tr>\n",
              "    <tr>\n",
              "      <th>50%</th>\n",
              "      <td>1211.000000</td>\n",
              "      <td>1927.000000</td>\n",
              "      <td>0.790000</td>\n",
              "      <td>2.661900</td>\n",
              "    </tr>\n",
              "    <tr>\n",
              "      <th>75%</th>\n",
              "      <td>1383.000000</td>\n",
              "      <td>2224.000000</td>\n",
              "      <td>0.890000</td>\n",
              "      <td>2.745950</td>\n",
              "    </tr>\n",
              "    <tr>\n",
              "      <th>max</th>\n",
              "      <td>4095.000000</td>\n",
              "      <td>4095.000000</td>\n",
              "      <td>0.930000</td>\n",
              "      <td>6.505600</td>\n",
              "    </tr>\n",
              "  </tbody>\n",
              "</table>\n",
              "</div>\n",
              "    <div class=\"colab-df-buttons\">\n",
              "\n",
              "  <div class=\"colab-df-container\">\n",
              "    <button class=\"colab-df-convert\" onclick=\"convertToInteractive('df-61af2b3c-5569-4a3d-8aa2-b93647904075')\"\n",
              "            title=\"Convert this dataframe to an interactive table.\"\n",
              "            style=\"display:none;\">\n",
              "\n",
              "  <svg xmlns=\"http://www.w3.org/2000/svg\" height=\"24px\" viewBox=\"0 -960 960 960\">\n",
              "    <path d=\"M120-120v-720h720v720H120Zm60-500h600v-160H180v160Zm220 220h160v-160H400v160Zm0 220h160v-160H400v160ZM180-400h160v-160H180v160Zm440 0h160v-160H620v160ZM180-180h160v-160H180v160Zm440 0h160v-160H620v160Z\"/>\n",
              "  </svg>\n",
              "    </button>\n",
              "\n",
              "  <style>\n",
              "    .colab-df-container {\n",
              "      display:flex;\n",
              "      gap: 12px;\n",
              "    }\n",
              "\n",
              "    .colab-df-convert {\n",
              "      background-color: #E8F0FE;\n",
              "      border: none;\n",
              "      border-radius: 50%;\n",
              "      cursor: pointer;\n",
              "      display: none;\n",
              "      fill: #1967D2;\n",
              "      height: 32px;\n",
              "      padding: 0 0 0 0;\n",
              "      width: 32px;\n",
              "    }\n",
              "\n",
              "    .colab-df-convert:hover {\n",
              "      background-color: #E2EBFA;\n",
              "      box-shadow: 0px 1px 2px rgba(60, 64, 67, 0.3), 0px 1px 3px 1px rgba(60, 64, 67, 0.15);\n",
              "      fill: #174EA6;\n",
              "    }\n",
              "\n",
              "    .colab-df-buttons div {\n",
              "      margin-bottom: 4px;\n",
              "    }\n",
              "\n",
              "    [theme=dark] .colab-df-convert {\n",
              "      background-color: #3B4455;\n",
              "      fill: #D2E3FC;\n",
              "    }\n",
              "\n",
              "    [theme=dark] .colab-df-convert:hover {\n",
              "      background-color: #434B5C;\n",
              "      box-shadow: 0px 1px 3px 1px rgba(0, 0, 0, 0.15);\n",
              "      filter: drop-shadow(0px 1px 2px rgba(0, 0, 0, 0.3));\n",
              "      fill: #FFFFFF;\n",
              "    }\n",
              "  </style>\n",
              "\n",
              "    <script>\n",
              "      const buttonEl =\n",
              "        document.querySelector('#df-61af2b3c-5569-4a3d-8aa2-b93647904075 button.colab-df-convert');\n",
              "      buttonEl.style.display =\n",
              "        google.colab.kernel.accessAllowed ? 'block' : 'none';\n",
              "\n",
              "      async function convertToInteractive(key) {\n",
              "        const element = document.querySelector('#df-61af2b3c-5569-4a3d-8aa2-b93647904075');\n",
              "        const dataTable =\n",
              "          await google.colab.kernel.invokeFunction('convertToInteractive',\n",
              "                                                    [key], {});\n",
              "        if (!dataTable) return;\n",
              "\n",
              "        const docLinkHtml = 'Like what you see? Visit the ' +\n",
              "          '<a target=\"_blank\" href=https://colab.research.google.com/notebooks/data_table.ipynb>data table notebook</a>'\n",
              "          + ' to learn more about interactive tables.';\n",
              "        element.innerHTML = '';\n",
              "        dataTable['output_type'] = 'display_data';\n",
              "        await google.colab.output.renderOutput(dataTable, element);\n",
              "        const docLink = document.createElement('div');\n",
              "        docLink.innerHTML = docLinkHtml;\n",
              "        element.appendChild(docLink);\n",
              "      }\n",
              "    </script>\n",
              "  </div>\n",
              "\n",
              "\n",
              "    <div id=\"df-80d4096d-42fe-484c-b0fc-430deebc9857\">\n",
              "      <button class=\"colab-df-quickchart\" onclick=\"quickchart('df-80d4096d-42fe-484c-b0fc-430deebc9857')\"\n",
              "                title=\"Suggest charts\"\n",
              "                style=\"display:none;\">\n",
              "\n",
              "<svg xmlns=\"http://www.w3.org/2000/svg\" height=\"24px\"viewBox=\"0 0 24 24\"\n",
              "     width=\"24px\">\n",
              "    <g>\n",
              "        <path d=\"M19 3H5c-1.1 0-2 .9-2 2v14c0 1.1.9 2 2 2h14c1.1 0 2-.9 2-2V5c0-1.1-.9-2-2-2zM9 17H7v-7h2v7zm4 0h-2V7h2v10zm4 0h-2v-4h2v4z\"/>\n",
              "    </g>\n",
              "</svg>\n",
              "      </button>\n",
              "\n",
              "<style>\n",
              "  .colab-df-quickchart {\n",
              "      --bg-color: #E8F0FE;\n",
              "      --fill-color: #1967D2;\n",
              "      --hover-bg-color: #E2EBFA;\n",
              "      --hover-fill-color: #174EA6;\n",
              "      --disabled-fill-color: #AAA;\n",
              "      --disabled-bg-color: #DDD;\n",
              "  }\n",
              "\n",
              "  [theme=dark] .colab-df-quickchart {\n",
              "      --bg-color: #3B4455;\n",
              "      --fill-color: #D2E3FC;\n",
              "      --hover-bg-color: #434B5C;\n",
              "      --hover-fill-color: #FFFFFF;\n",
              "      --disabled-bg-color: #3B4455;\n",
              "      --disabled-fill-color: #666;\n",
              "  }\n",
              "\n",
              "  .colab-df-quickchart {\n",
              "    background-color: var(--bg-color);\n",
              "    border: none;\n",
              "    border-radius: 50%;\n",
              "    cursor: pointer;\n",
              "    display: none;\n",
              "    fill: var(--fill-color);\n",
              "    height: 32px;\n",
              "    padding: 0;\n",
              "    width: 32px;\n",
              "  }\n",
              "\n",
              "  .colab-df-quickchart:hover {\n",
              "    background-color: var(--hover-bg-color);\n",
              "    box-shadow: 0 1px 2px rgba(60, 64, 67, 0.3), 0 1px 3px 1px rgba(60, 64, 67, 0.15);\n",
              "    fill: var(--button-hover-fill-color);\n",
              "  }\n",
              "\n",
              "  .colab-df-quickchart-complete:disabled,\n",
              "  .colab-df-quickchart-complete:disabled:hover {\n",
              "    background-color: var(--disabled-bg-color);\n",
              "    fill: var(--disabled-fill-color);\n",
              "    box-shadow: none;\n",
              "  }\n",
              "\n",
              "  .colab-df-spinner {\n",
              "    border: 2px solid var(--fill-color);\n",
              "    border-color: transparent;\n",
              "    border-bottom-color: var(--fill-color);\n",
              "    animation:\n",
              "      spin 1s steps(1) infinite;\n",
              "  }\n",
              "\n",
              "  @keyframes spin {\n",
              "    0% {\n",
              "      border-color: transparent;\n",
              "      border-bottom-color: var(--fill-color);\n",
              "      border-left-color: var(--fill-color);\n",
              "    }\n",
              "    20% {\n",
              "      border-color: transparent;\n",
              "      border-left-color: var(--fill-color);\n",
              "      border-top-color: var(--fill-color);\n",
              "    }\n",
              "    30% {\n",
              "      border-color: transparent;\n",
              "      border-left-color: var(--fill-color);\n",
              "      border-top-color: var(--fill-color);\n",
              "      border-right-color: var(--fill-color);\n",
              "    }\n",
              "    40% {\n",
              "      border-color: transparent;\n",
              "      border-right-color: var(--fill-color);\n",
              "      border-top-color: var(--fill-color);\n",
              "    }\n",
              "    60% {\n",
              "      border-color: transparent;\n",
              "      border-right-color: var(--fill-color);\n",
              "    }\n",
              "    80% {\n",
              "      border-color: transparent;\n",
              "      border-right-color: var(--fill-color);\n",
              "      border-bottom-color: var(--fill-color);\n",
              "    }\n",
              "    90% {\n",
              "      border-color: transparent;\n",
              "      border-bottom-color: var(--fill-color);\n",
              "    }\n",
              "  }\n",
              "</style>\n",
              "\n",
              "      <script>\n",
              "        async function quickchart(key) {\n",
              "          const quickchartButtonEl =\n",
              "            document.querySelector('#' + key + ' button');\n",
              "          quickchartButtonEl.disabled = true;  // To prevent multiple clicks.\n",
              "          quickchartButtonEl.classList.add('colab-df-spinner');\n",
              "          try {\n",
              "            const charts = await google.colab.kernel.invokeFunction(\n",
              "                'suggestCharts', [key], {});\n",
              "          } catch (error) {\n",
              "            console.error('Error during call to suggestCharts:', error);\n",
              "          }\n",
              "          quickchartButtonEl.classList.remove('colab-df-spinner');\n",
              "          quickchartButtonEl.classList.add('colab-df-quickchart-complete');\n",
              "        }\n",
              "        (() => {\n",
              "          let quickchartButtonEl =\n",
              "            document.querySelector('#df-80d4096d-42fe-484c-b0fc-430deebc9857 button');\n",
              "          quickchartButtonEl.style.display =\n",
              "            google.colab.kernel.accessAllowed ? 'block' : 'none';\n",
              "        })();\n",
              "      </script>\n",
              "    </div>\n",
              "\n",
              "    </div>\n",
              "  </div>\n"
            ],
            "application/vnd.google.colaboratory.intrinsic+json": {
              "type": "dataframe",
              "summary": "{\n  \"name\": \"df\",\n  \"rows\": 8,\n  \"fields\": [\n    {\n      \"column\": \"Intensitas Cahaya\",\n      \"properties\": {\n        \"dtype\": \"number\",\n        \"std\": 3381.357872067669,\n        \"min\": 199.0,\n        \"max\": 10359.0,\n        \"num_unique_values\": 8,\n        \"samples\": [\n          1356.603436625157,\n          1211.0,\n          10359.0\n        ],\n        \"semantic_type\": \"\",\n        \"description\": \"\"\n      }\n    },\n    {\n      \"column\": \"Kelembaban Tanah\",\n      \"properties\": {\n        \"dtype\": \"number\",\n        \"std\": 3198.6909150574843,\n        \"min\": 387.2715288254178,\n        \"max\": 10359.0,\n        \"num_unique_values\": 8,\n        \"samples\": [\n          2033.6087460179554,\n          1927.0,\n          10359.0\n        ],\n        \"semantic_type\": \"\",\n        \"description\": \"\"\n      }\n    },\n    {\n      \"column\": \"Humidity\",\n      \"properties\": {\n        \"dtype\": \"number\",\n        \"std\": 3662.237004977153,\n        \"min\": 0.19769944322193153,\n        \"max\": 10359.0,\n        \"num_unique_values\": 8,\n        \"samples\": [\n          0.7291408437107829,\n          0.79,\n          10359.0\n        ],\n        \"semantic_type\": \"\",\n        \"description\": \"\"\n      }\n    },\n    {\n      \"column\": \"Bulan\",\n      \"properties\": {\n        \"dtype\": \"number\",\n        \"std\": 3661.474843339655,\n        \"min\": 0.4220572262298135,\n        \"max\": 10359.0,\n        \"num_unique_values\": 8,\n        \"samples\": [\n          2.7524192779225793,\n          2.6619,\n          10359.0\n        ],\n        \"semantic_type\": \"\",\n        \"description\": \"\"\n      }\n    }\n  ]\n}"
            }
          },
          "metadata": {},
          "execution_count": 6
        }
      ]
    },
    {
      "cell_type": "markdown",
      "source": [
        "> - Dari kode dan hasil diatas kita bisa melihat rentang nilai dari setiap sensor. Contohnya, Intensitas Cahaya berkisar dari 0 hingga 39188.\n",
        "- Setiap fitur memiliki skala yang sangat berbeda (Kelembaban Tanah dalam ribuan, Humidity di bawah 1). Ini mengonfirmasi bahwa langkah normalisasi/scaling sangat penting agar tidak ada satu fitur yang mendominasi proses training model.\n",
        "- Temperature tidak ada di tabel ini, yang sekali lagi membuktikan bahwa ia belum dianggap sebagai angka."
      ],
      "metadata": {
        "id": "cUvprtfDcgBJ"
      }
    },
    {
      "cell_type": "code",
      "source": [
        "df.isnull().sum()"
      ],
      "metadata": {
        "colab": {
          "base_uri": "https://localhost:8080/",
          "height": 303
        },
        "id": "lCnl8u5bvBOI",
        "outputId": "6b1b13fa-3731-49f7-930f-df6b9de41305"
      },
      "execution_count": 7,
      "outputs": [
        {
          "output_type": "execute_result",
          "data": {
            "text/plain": [
              "Time                 0\n",
              "Date                 0\n",
              "Intensitas Cahaya    0\n",
              "Kelembaban Tanah     0\n",
              "Humidity             0\n",
              "Temperature          0\n",
              "Bulan                0\n",
              "dtype: int64"
            ],
            "text/html": [
              "<div>\n",
              "<style scoped>\n",
              "    .dataframe tbody tr th:only-of-type {\n",
              "        vertical-align: middle;\n",
              "    }\n",
              "\n",
              "    .dataframe tbody tr th {\n",
              "        vertical-align: top;\n",
              "    }\n",
              "\n",
              "    .dataframe thead th {\n",
              "        text-align: right;\n",
              "    }\n",
              "</style>\n",
              "<table border=\"1\" class=\"dataframe\">\n",
              "  <thead>\n",
              "    <tr style=\"text-align: right;\">\n",
              "      <th></th>\n",
              "      <th>0</th>\n",
              "    </tr>\n",
              "  </thead>\n",
              "  <tbody>\n",
              "    <tr>\n",
              "      <th>Time</th>\n",
              "      <td>0</td>\n",
              "    </tr>\n",
              "    <tr>\n",
              "      <th>Date</th>\n",
              "      <td>0</td>\n",
              "    </tr>\n",
              "    <tr>\n",
              "      <th>Intensitas Cahaya</th>\n",
              "      <td>0</td>\n",
              "    </tr>\n",
              "    <tr>\n",
              "      <th>Kelembaban Tanah</th>\n",
              "      <td>0</td>\n",
              "    </tr>\n",
              "    <tr>\n",
              "      <th>Humidity</th>\n",
              "      <td>0</td>\n",
              "    </tr>\n",
              "    <tr>\n",
              "      <th>Temperature</th>\n",
              "      <td>0</td>\n",
              "    </tr>\n",
              "    <tr>\n",
              "      <th>Bulan</th>\n",
              "      <td>0</td>\n",
              "    </tr>\n",
              "  </tbody>\n",
              "</table>\n",
              "</div><br><label><b>dtype:</b> int64</label>"
            ]
          },
          "metadata": {},
          "execution_count": 7
        }
      ]
    },
    {
      "cell_type": "markdown",
      "source": [
        "> Kode diatas digunakan untuk menghitung jumlah data yang kosong (null) di setiap kolom. Hasilnya adalah 0 untuk semua kolom."
      ],
      "metadata": {
        "id": "y-eAUYsEdD9i"
      }
    },
    {
      "cell_type": "markdown",
      "source": [
        "### Membersihkan data"
      ],
      "metadata": {
        "id": "AeyXZaEbYWYn"
      }
    },
    {
      "cell_type": "code",
      "source": [
        "if df['Temperature'].dtype == 'object':\n",
        "    df['Temperature'] = df['Temperature'].str.replace('°C', '', regex=False).str.replace(',', '.').astype(float)"
      ],
      "metadata": {
        "id": "EMZWiRu5vGPj"
      },
      "execution_count": 8,
      "outputs": []
    },
    {
      "cell_type": "markdown",
      "source": [
        "> Kode diatas bertujuan untuk mengubah data di kolom Temperature dari format teks (contoh: \"28,50°C\") menjadi format angka yang bisa dihitung (contoh: 28.5). Model matematika tidak bisa mengerti teks, jadi langkah ini wajib dilakukan."
      ],
      "metadata": {
        "id": "y_pxNaktfXxz"
      }
    },
    {
      "cell_type": "code",
      "source": [
        "if 'Humidity' in df.columns and df['Humidity'].max() <= 1.0:\n",
        "    df['Humidity'] = df['Humidity'] * 100"
      ],
      "metadata": {
        "id": "hMsK2KmbvJCm"
      },
      "execution_count": 9,
      "outputs": []
    },
    {
      "cell_type": "markdown",
      "source": [
        "> Kode diatas bertujuan untuk mengubah skala Humidity dari format rasio (nilai antara 0 dan 1, contoh: 0.91) menjadi format persentase yang lebih mudah dibaca (contoh: 91.0)."
      ],
      "metadata": {
        "id": "gUwIuYs_ffNe"
      }
    },
    {
      "cell_type": "markdown",
      "source": [
        "### Membuat Target Simulasi"
      ],
      "metadata": {
        "id": "spAKuw9TYmrd"
      }
    },
    {
      "cell_type": "code",
      "source": [
        "np.random.seed(42)\n",
        "base_harvest_days = 150\n",
        "df['days_to_harvest'] = base_harvest_days \\\n",
        "                      - (df['Temperature'] - df['Temperature'].mean()) * 2 \\\n",
        "                      - (df['Intensitas Cahaya'] - df['Intensitas Cahaya'].mean()) / 100 \\\n",
        "                      + abs(df['Humidity'] - df['Humidity'].mean()) * 0.1 \\\n",
        "                      + np.random.normal(0, 3, len(df))\n",
        "df['days_to_harvest'] = df['days_to_harvest'].round().astype(int)"
      ],
      "metadata": {
        "id": "RnVOMRuBQaNN"
      },
      "execution_count": 10,
      "outputs": []
    },
    {
      "cell_type": "markdown",
      "source": [
        ">- Blok kode ini bertujuan untuk membuat kolom target days_to_harvest secara artifisial. Langkah ini diperlukan karena dataset asli hanya berisi data fitur (sensor) dan tidak memiliki data target (label) yang akan diprediksi.\n",
        "- Model supervised learning membutuhkan target untuk bisa belajar, sehingga simulasi ini berfungsi sebagai placeholder realistis selama tahap pengembangan dan prototyping.\n",
        "- Blok kode ini hanya untuk tahap development. Ketika data panen riil dari lapangan sudah tersedia, seluruh blok kode ini harus dihapus dan digantikan dengan kolom days_to_harvest yang asli dari dataset baru tersebut."
      ],
      "metadata": {
        "id": "ht9OTmZmgMdz"
      }
    },
    {
      "cell_type": "markdown",
      "source": [
        "### Fitur dan Target"
      ],
      "metadata": {
        "id": "yiYP469gYutP"
      }
    },
    {
      "cell_type": "code",
      "source": [
        "features = ['Temperature', 'Humidity', 'Kelembaban Tanah', 'Intensitas Cahaya']\n",
        "target = 'days_to_harvest'\n",
        "\n",
        "X = df[features]\n",
        "y = df[target]"
      ],
      "metadata": {
        "id": "BxhPQ1iiQhbt"
      },
      "execution_count": 11,
      "outputs": []
    },
    {
      "cell_type": "markdown",
      "source": [
        "> Kode diatas adalah langkah dalam persiapan data untuk machine learning, yaitu memisahkan antara fitur (variabel input) dan target (variabel output)."
      ],
      "metadata": {
        "id": "uW9vsf4Oh9G7"
      }
    },
    {
      "cell_type": "markdown",
      "source": [
        "### Split Data"
      ],
      "metadata": {
        "id": "88pj2gghYzYR"
      }
    },
    {
      "cell_type": "code",
      "source": [
        "X_train, X_test, y_train, y_test = train_test_split(X, y, test_size=0.2, random_state=42)"
      ],
      "metadata": {
        "id": "NHnafj-9Qkyd"
      },
      "execution_count": 12,
      "outputs": []
    },
    {
      "cell_type": "markdown",
      "source": [
        "> Data dibagi menjadi:\n",
        "- 20% untuk testing\n",
        "- 80% untuk training"
      ],
      "metadata": {
        "id": "8jBD4-A7iOpz"
      }
    },
    {
      "cell_type": "markdown",
      "source": [
        "### Normalisasi Data"
      ],
      "metadata": {
        "id": "vkSFCM9QY1mn"
      }
    },
    {
      "cell_type": "code",
      "source": [
        "scaler = StandardScaler()\n",
        "X_train_scaled = scaler.fit_transform(X_train)\n",
        "X_test_scaled = scaler.transform(X_test)"
      ],
      "metadata": {
        "id": "puT68ZWcQnG9"
      },
      "execution_count": 13,
      "outputs": []
    },
    {
      "cell_type": "markdown",
      "source": [
        ">  Tujuan scaling adalah untuk menyamakan skala semua fitur agar semuanya memiliki \"bobot\" yang adil di mata model. Ini membuat proses training menjadi lebih cepat, lebih stabil, dan sering kali menghasilkan model yang lebih akurat."
      ],
      "metadata": {
        "id": "T9orV6PDlWoI"
      }
    },
    {
      "cell_type": "markdown",
      "source": [
        "## Modeling dengan Keras"
      ],
      "metadata": {
        "id": "ygVrW0dzY4Ui"
      }
    },
    {
      "cell_type": "code",
      "source": [
        "model = tf.keras.Sequential([\n",
        "    tf.keras.layers.Input(shape=(len(features),)),\n",
        "    tf.keras.layers.Dense(128, activation='relu'),\n",
        "    tf.keras.layers.Dense(64, activation='relu'),\n",
        "    tf.keras.layers.Dense(32, activation='relu'),\n",
        "    tf.keras.layers.Dense(1, activation='linear')\n",
        "])"
      ],
      "metadata": {
        "id": "1olBloAAQpS0"
      },
      "execution_count": 14,
      "outputs": []
    },
    {
      "cell_type": "code",
      "source": [
        "early_stopping = tf.keras.callbacks.EarlyStopping(monitor='val_loss', patience=15, restore_best_weights=True)"
      ],
      "metadata": {
        "id": "s5telL4OQrlT"
      },
      "execution_count": 15,
      "outputs": []
    },
    {
      "cell_type": "code",
      "source": [
        "model.compile(optimizer=tf.keras.optimizers.Adam(learning_rate=0.001),\n",
        "              loss='mean_squared_error',\n",
        "              metrics=['mean_absolute_error'])"
      ],
      "metadata": {
        "id": "xWGpRTH2Qtsg"
      },
      "execution_count": 16,
      "outputs": []
    },
    {
      "cell_type": "code",
      "source": [
        "history = model.fit(X_train_scaled, y_train, epochs=200, validation_split=0.2, batch_size=32, callbacks=[early_stopping], verbose=1)"
      ],
      "metadata": {
        "colab": {
          "base_uri": "https://localhost:8080/"
        },
        "id": "CFj1ZNsYQwAI",
        "outputId": "6f5faf7e-1f14-4cc5-f1bd-0df3613652a7"
      },
      "execution_count": 17,
      "outputs": [
        {
          "output_type": "stream",
          "name": "stdout",
          "text": [
            "Epoch 1/200\n",
            "\u001b[1m208/208\u001b[0m \u001b[32m━━━━━━━━━━━━━━━━━━━━\u001b[0m\u001b[37m\u001b[0m \u001b[1m2s\u001b[0m 4ms/step - loss: 17184.1113 - mean_absolute_error: 121.5606 - val_loss: 592.0071 - val_mean_absolute_error: 17.7779\n",
            "Epoch 2/200\n",
            "\u001b[1m208/208\u001b[0m \u001b[32m━━━━━━━━━━━━━━━━━━━━\u001b[0m\u001b[37m\u001b[0m \u001b[1m1s\u001b[0m 3ms/step - loss: 546.6837 - mean_absolute_error: 15.5175 - val_loss: 190.1746 - val_mean_absolute_error: 9.2066\n",
            "Epoch 3/200\n",
            "\u001b[1m208/208\u001b[0m \u001b[32m━━━━━━━━━━━━━━━━━━━━\u001b[0m\u001b[37m\u001b[0m \u001b[1m1s\u001b[0m 3ms/step - loss: 163.1824 - mean_absolute_error: 8.5381 - val_loss: 74.2752 - val_mean_absolute_error: 5.9783\n",
            "Epoch 4/200\n",
            "\u001b[1m208/208\u001b[0m \u001b[32m━━━━━━━━━━━━━━━━━━━━\u001b[0m\u001b[37m\u001b[0m \u001b[1m1s\u001b[0m 3ms/step - loss: 67.1439 - mean_absolute_error: 5.4872 - val_loss: 30.0347 - val_mean_absolute_error: 3.8964\n",
            "Epoch 5/200\n",
            "\u001b[1m208/208\u001b[0m \u001b[32m━━━━━━━━━━━━━━━━━━━━\u001b[0m\u001b[37m\u001b[0m \u001b[1m1s\u001b[0m 3ms/step - loss: 29.8917 - mean_absolute_error: 3.7621 - val_loss: 18.8086 - val_mean_absolute_error: 3.1579\n",
            "Epoch 6/200\n",
            "\u001b[1m208/208\u001b[0m \u001b[32m━━━━━━━━━━━━━━━━━━━━\u001b[0m\u001b[37m\u001b[0m \u001b[1m1s\u001b[0m 3ms/step - loss: 18.7490 - mean_absolute_error: 3.1213 - val_loss: 13.6638 - val_mean_absolute_error: 2.8516\n",
            "Epoch 7/200\n",
            "\u001b[1m208/208\u001b[0m \u001b[32m━━━━━━━━━━━━━━━━━━━━\u001b[0m\u001b[37m\u001b[0m \u001b[1m1s\u001b[0m 3ms/step - loss: 15.2147 - mean_absolute_error: 2.9050 - val_loss: 11.4165 - val_mean_absolute_error: 2.6792\n",
            "Epoch 8/200\n",
            "\u001b[1m208/208\u001b[0m \u001b[32m━━━━━━━━━━━━━━━━━━━━\u001b[0m\u001b[37m\u001b[0m \u001b[1m1s\u001b[0m 3ms/step - loss: 11.9298 - mean_absolute_error: 2.7206 - val_loss: 10.5196 - val_mean_absolute_error: 2.6015\n",
            "Epoch 9/200\n",
            "\u001b[1m208/208\u001b[0m \u001b[32m━━━━━━━━━━━━━━━━━━━━\u001b[0m\u001b[37m\u001b[0m \u001b[1m1s\u001b[0m 5ms/step - loss: 11.3259 - mean_absolute_error: 2.6673 - val_loss: 10.6607 - val_mean_absolute_error: 2.6240\n",
            "Epoch 10/200\n",
            "\u001b[1m208/208\u001b[0m \u001b[32m━━━━━━━━━━━━━━━━━━━━\u001b[0m\u001b[37m\u001b[0m \u001b[1m1s\u001b[0m 5ms/step - loss: 10.8421 - mean_absolute_error: 2.6100 - val_loss: 10.1329 - val_mean_absolute_error: 2.5512\n",
            "Epoch 11/200\n",
            "\u001b[1m208/208\u001b[0m \u001b[32m━━━━━━━━━━━━━━━━━━━━\u001b[0m\u001b[37m\u001b[0m \u001b[1m1s\u001b[0m 3ms/step - loss: 10.3814 - mean_absolute_error: 2.5581 - val_loss: 9.8912 - val_mean_absolute_error: 2.5215\n",
            "Epoch 12/200\n",
            "\u001b[1m208/208\u001b[0m \u001b[32m━━━━━━━━━━━━━━━━━━━━\u001b[0m\u001b[37m\u001b[0m \u001b[1m1s\u001b[0m 3ms/step - loss: 10.5218 - mean_absolute_error: 2.5738 - val_loss: 10.4413 - val_mean_absolute_error: 2.6032\n",
            "Epoch 13/200\n",
            "\u001b[1m208/208\u001b[0m \u001b[32m━━━━━━━━━━━━━━━━━━━━\u001b[0m\u001b[37m\u001b[0m \u001b[1m1s\u001b[0m 3ms/step - loss: 10.3896 - mean_absolute_error: 2.5628 - val_loss: 9.9311 - val_mean_absolute_error: 2.5342\n",
            "Epoch 14/200\n",
            "\u001b[1m208/208\u001b[0m \u001b[32m━━━━━━━━━━━━━━━━━━━━\u001b[0m\u001b[37m\u001b[0m \u001b[1m1s\u001b[0m 3ms/step - loss: 9.9725 - mean_absolute_error: 2.5130 - val_loss: 9.7149 - val_mean_absolute_error: 2.5020\n",
            "Epoch 15/200\n",
            "\u001b[1m208/208\u001b[0m \u001b[32m━━━━━━━━━━━━━━━━━━━━\u001b[0m\u001b[37m\u001b[0m \u001b[1m1s\u001b[0m 3ms/step - loss: 10.3370 - mean_absolute_error: 2.5569 - val_loss: 11.1003 - val_mean_absolute_error: 2.6379\n",
            "Epoch 16/200\n",
            "\u001b[1m208/208\u001b[0m \u001b[32m━━━━━━━━━━━━━━━━━━━━\u001b[0m\u001b[37m\u001b[0m \u001b[1m1s\u001b[0m 3ms/step - loss: 10.0324 - mean_absolute_error: 2.5327 - val_loss: 10.3251 - val_mean_absolute_error: 2.5570\n",
            "Epoch 17/200\n",
            "\u001b[1m208/208\u001b[0m \u001b[32m━━━━━━━━━━━━━━━━━━━━\u001b[0m\u001b[37m\u001b[0m \u001b[1m1s\u001b[0m 3ms/step - loss: 9.8650 - mean_absolute_error: 2.5027 - val_loss: 10.0324 - val_mean_absolute_error: 2.5354\n",
            "Epoch 18/200\n",
            "\u001b[1m208/208\u001b[0m \u001b[32m━━━━━━━━━━━━━━━━━━━━\u001b[0m\u001b[37m\u001b[0m \u001b[1m1s\u001b[0m 3ms/step - loss: 9.6953 - mean_absolute_error: 2.4758 - val_loss: 9.8175 - val_mean_absolute_error: 2.5003\n",
            "Epoch 19/200\n",
            "\u001b[1m208/208\u001b[0m \u001b[32m━━━━━━━━━━━━━━━━━━━━\u001b[0m\u001b[37m\u001b[0m \u001b[1m1s\u001b[0m 3ms/step - loss: 10.0461 - mean_absolute_error: 2.5225 - val_loss: 9.9323 - val_mean_absolute_error: 2.5267\n",
            "Epoch 20/200\n",
            "\u001b[1m208/208\u001b[0m \u001b[32m━━━━━━━━━━━━━━━━━━━━\u001b[0m\u001b[37m\u001b[0m \u001b[1m1s\u001b[0m 3ms/step - loss: 10.5820 - mean_absolute_error: 2.5731 - val_loss: 9.7521 - val_mean_absolute_error: 2.4972\n",
            "Epoch 21/200\n",
            "\u001b[1m208/208\u001b[0m \u001b[32m━━━━━━━━━━━━━━━━━━━━\u001b[0m\u001b[37m\u001b[0m \u001b[1m1s\u001b[0m 5ms/step - loss: 10.1957 - mean_absolute_error: 2.5412 - val_loss: 10.7489 - val_mean_absolute_error: 2.6038\n",
            "Epoch 22/200\n",
            "\u001b[1m208/208\u001b[0m \u001b[32m━━━━━━━━━━━━━━━━━━━━\u001b[0m\u001b[37m\u001b[0m \u001b[1m1s\u001b[0m 5ms/step - loss: 10.1773 - mean_absolute_error: 2.5428 - val_loss: 11.9469 - val_mean_absolute_error: 2.7331\n",
            "Epoch 23/200\n",
            "\u001b[1m208/208\u001b[0m \u001b[32m━━━━━━━━━━━━━━━━━━━━\u001b[0m\u001b[37m\u001b[0m \u001b[1m1s\u001b[0m 3ms/step - loss: 10.7897 - mean_absolute_error: 2.6071 - val_loss: 9.5982 - val_mean_absolute_error: 2.4834\n",
            "Epoch 24/200\n",
            "\u001b[1m208/208\u001b[0m \u001b[32m━━━━━━━━━━━━━━━━━━━━\u001b[0m\u001b[37m\u001b[0m \u001b[1m1s\u001b[0m 3ms/step - loss: 10.2467 - mean_absolute_error: 2.5465 - val_loss: 11.1024 - val_mean_absolute_error: 2.6368\n",
            "Epoch 25/200\n",
            "\u001b[1m208/208\u001b[0m \u001b[32m━━━━━━━━━━━━━━━━━━━━\u001b[0m\u001b[37m\u001b[0m \u001b[1m1s\u001b[0m 3ms/step - loss: 10.3856 - mean_absolute_error: 2.5674 - val_loss: 11.5865 - val_mean_absolute_error: 2.6917\n",
            "Epoch 26/200\n",
            "\u001b[1m208/208\u001b[0m \u001b[32m━━━━━━━━━━━━━━━━━━━━\u001b[0m\u001b[37m\u001b[0m \u001b[1m1s\u001b[0m 3ms/step - loss: 9.9623 - mean_absolute_error: 2.5143 - val_loss: 10.4624 - val_mean_absolute_error: 2.5960\n",
            "Epoch 27/200\n",
            "\u001b[1m208/208\u001b[0m \u001b[32m━━━━━━━━━━━━━━━━━━━━\u001b[0m\u001b[37m\u001b[0m \u001b[1m1s\u001b[0m 3ms/step - loss: 10.0422 - mean_absolute_error: 2.5219 - val_loss: 12.3605 - val_mean_absolute_error: 2.8193\n",
            "Epoch 28/200\n",
            "\u001b[1m208/208\u001b[0m \u001b[32m━━━━━━━━━━━━━━━━━━━━\u001b[0m\u001b[37m\u001b[0m \u001b[1m1s\u001b[0m 3ms/step - loss: 11.8246 - mean_absolute_error: 2.7143 - val_loss: 9.5567 - val_mean_absolute_error: 2.4678\n",
            "Epoch 29/200\n",
            "\u001b[1m208/208\u001b[0m \u001b[32m━━━━━━━━━━━━━━━━━━━━\u001b[0m\u001b[37m\u001b[0m \u001b[1m1s\u001b[0m 3ms/step - loss: 9.9575 - mean_absolute_error: 2.5098 - val_loss: 9.9089 - val_mean_absolute_error: 2.5103\n",
            "Epoch 30/200\n",
            "\u001b[1m208/208\u001b[0m \u001b[32m━━━━━━━━━━━━━━━━━━━━\u001b[0m\u001b[37m\u001b[0m \u001b[1m1s\u001b[0m 3ms/step - loss: 10.2600 - mean_absolute_error: 2.5377 - val_loss: 17.2392 - val_mean_absolute_error: 3.3169\n",
            "Epoch 31/200\n",
            "\u001b[1m208/208\u001b[0m \u001b[32m━━━━━━━━━━━━━━━━━━━━\u001b[0m\u001b[37m\u001b[0m \u001b[1m1s\u001b[0m 3ms/step - loss: 11.3016 - mean_absolute_error: 2.6579 - val_loss: 11.5240 - val_mean_absolute_error: 2.7461\n",
            "Epoch 32/200\n",
            "\u001b[1m208/208\u001b[0m \u001b[32m━━━━━━━━━━━━━━━━━━━━\u001b[0m\u001b[37m\u001b[0m \u001b[1m1s\u001b[0m 3ms/step - loss: 10.3649 - mean_absolute_error: 2.5518 - val_loss: 11.2845 - val_mean_absolute_error: 2.6825\n",
            "Epoch 33/200\n",
            "\u001b[1m208/208\u001b[0m \u001b[32m━━━━━━━━━━━━━━━━━━━━\u001b[0m\u001b[37m\u001b[0m \u001b[1m2s\u001b[0m 7ms/step - loss: 10.1387 - mean_absolute_error: 2.5262 - val_loss: 9.6431 - val_mean_absolute_error: 2.4760\n",
            "Epoch 34/200\n",
            "\u001b[1m208/208\u001b[0m \u001b[32m━━━━━━━━━━━━━━━━━━━━\u001b[0m\u001b[37m\u001b[0m \u001b[1m2s\u001b[0m 3ms/step - loss: 10.3415 - mean_absolute_error: 2.5562 - val_loss: 9.5507 - val_mean_absolute_error: 2.4732\n",
            "Epoch 35/200\n",
            "\u001b[1m208/208\u001b[0m \u001b[32m━━━━━━━━━━━━━━━━━━━━\u001b[0m\u001b[37m\u001b[0m \u001b[1m1s\u001b[0m 3ms/step - loss: 10.5471 - mean_absolute_error: 2.5985 - val_loss: 9.6736 - val_mean_absolute_error: 2.4946\n",
            "Epoch 36/200\n",
            "\u001b[1m208/208\u001b[0m \u001b[32m━━━━━━━━━━━━━━━━━━━━\u001b[0m\u001b[37m\u001b[0m \u001b[1m1s\u001b[0m 3ms/step - loss: 10.0761 - mean_absolute_error: 2.5290 - val_loss: 9.5067 - val_mean_absolute_error: 2.4692\n",
            "Epoch 37/200\n",
            "\u001b[1m208/208\u001b[0m \u001b[32m━━━━━━━━━━━━━━━━━━━━\u001b[0m\u001b[37m\u001b[0m \u001b[1m1s\u001b[0m 3ms/step - loss: 10.6273 - mean_absolute_error: 2.5916 - val_loss: 9.8474 - val_mean_absolute_error: 2.5098\n",
            "Epoch 38/200\n",
            "\u001b[1m208/208\u001b[0m \u001b[32m━━━━━━━━━━━━━━━━━━━━\u001b[0m\u001b[37m\u001b[0m \u001b[1m1s\u001b[0m 3ms/step - loss: 10.2358 - mean_absolute_error: 2.5383 - val_loss: 11.3988 - val_mean_absolute_error: 2.7070\n",
            "Epoch 39/200\n",
            "\u001b[1m208/208\u001b[0m \u001b[32m━━━━━━━━━━━━━━━━━━━━\u001b[0m\u001b[37m\u001b[0m \u001b[1m1s\u001b[0m 3ms/step - loss: 10.0960 - mean_absolute_error: 2.5387 - val_loss: 10.3362 - val_mean_absolute_error: 2.5955\n",
            "Epoch 40/200\n",
            "\u001b[1m208/208\u001b[0m \u001b[32m━━━━━━━━━━━━━━━━━━━━\u001b[0m\u001b[37m\u001b[0m \u001b[1m1s\u001b[0m 3ms/step - loss: 9.9354 - mean_absolute_error: 2.5088 - val_loss: 12.0726 - val_mean_absolute_error: 2.7512\n",
            "Epoch 41/200\n",
            "\u001b[1m208/208\u001b[0m \u001b[32m━━━━━━━━━━━━━━━━━━━━\u001b[0m\u001b[37m\u001b[0m \u001b[1m1s\u001b[0m 3ms/step - loss: 10.6143 - mean_absolute_error: 2.5762 - val_loss: 10.8220 - val_mean_absolute_error: 2.5989\n",
            "Epoch 42/200\n",
            "\u001b[1m208/208\u001b[0m \u001b[32m━━━━━━━━━━━━━━━━━━━━\u001b[0m\u001b[37m\u001b[0m \u001b[1m1s\u001b[0m 3ms/step - loss: 10.6448 - mean_absolute_error: 2.5993 - val_loss: 9.6724 - val_mean_absolute_error: 2.4987\n",
            "Epoch 43/200\n",
            "\u001b[1m208/208\u001b[0m \u001b[32m━━━━━━━━━━━━━━━━━━━━\u001b[0m\u001b[37m\u001b[0m \u001b[1m2s\u001b[0m 5ms/step - loss: 9.6963 - mean_absolute_error: 2.5017 - val_loss: 10.2901 - val_mean_absolute_error: 2.5471\n",
            "Epoch 44/200\n",
            "\u001b[1m208/208\u001b[0m \u001b[32m━━━━━━━━━━━━━━━━━━━━\u001b[0m\u001b[37m\u001b[0m \u001b[1m1s\u001b[0m 3ms/step - loss: 9.9722 - mean_absolute_error: 2.5141 - val_loss: 11.2620 - val_mean_absolute_error: 2.6555\n",
            "Epoch 45/200\n",
            "\u001b[1m208/208\u001b[0m \u001b[32m━━━━━━━━━━━━━━━━━━━━\u001b[0m\u001b[37m\u001b[0m \u001b[1m1s\u001b[0m 3ms/step - loss: 10.4710 - mean_absolute_error: 2.5670 - val_loss: 10.1086 - val_mean_absolute_error: 2.5150\n",
            "Epoch 46/200\n",
            "\u001b[1m208/208\u001b[0m \u001b[32m━━━━━━━━━━━━━━━━━━━━\u001b[0m\u001b[37m\u001b[0m \u001b[1m1s\u001b[0m 3ms/step - loss: 9.9997 - mean_absolute_error: 2.5389 - val_loss: 13.9940 - val_mean_absolute_error: 3.0440\n",
            "Epoch 47/200\n",
            "\u001b[1m208/208\u001b[0m \u001b[32m━━━━━━━━━━━━━━━━━━━━\u001b[0m\u001b[37m\u001b[0m \u001b[1m1s\u001b[0m 3ms/step - loss: 10.8186 - mean_absolute_error: 2.5848 - val_loss: 9.5424 - val_mean_absolute_error: 2.4681\n",
            "Epoch 48/200\n",
            "\u001b[1m208/208\u001b[0m \u001b[32m━━━━━━━━━━━━━━━━━━━━\u001b[0m\u001b[37m\u001b[0m \u001b[1m1s\u001b[0m 3ms/step - loss: 10.0829 - mean_absolute_error: 2.5265 - val_loss: 9.9909 - val_mean_absolute_error: 2.5147\n",
            "Epoch 49/200\n",
            "\u001b[1m208/208\u001b[0m \u001b[32m━━━━━━━━━━━━━━━━━━━━\u001b[0m\u001b[37m\u001b[0m \u001b[1m1s\u001b[0m 3ms/step - loss: 10.2035 - mean_absolute_error: 2.5561 - val_loss: 10.1118 - val_mean_absolute_error: 2.5369\n",
            "Epoch 50/200\n",
            "\u001b[1m208/208\u001b[0m \u001b[32m━━━━━━━━━━━━━━━━━━━━\u001b[0m\u001b[37m\u001b[0m \u001b[1m1s\u001b[0m 3ms/step - loss: 10.4164 - mean_absolute_error: 2.5703 - val_loss: 10.2675 - val_mean_absolute_error: 2.5572\n",
            "Epoch 51/200\n",
            "\u001b[1m208/208\u001b[0m \u001b[32m━━━━━━━━━━━━━━━━━━━━\u001b[0m\u001b[37m\u001b[0m \u001b[1m1s\u001b[0m 3ms/step - loss: 10.4787 - mean_absolute_error: 2.5760 - val_loss: 9.7384 - val_mean_absolute_error: 2.5013\n"
          ]
        }
      ]
    },
    {
      "cell_type": "markdown",
      "source": [
        "> Log training diatas menunjukkan proses pembuatan model yang sehat, efisien, dan sukses, menghasilkan model dengan performa yang terukur dan akurasi yang sangat baik.\n",
        "- Pelatihan berhenti di epoch ke-51. Ini bukan kegagalan, justru ini adalah keberhasilan. Callback EarlyStopping dengan cerdas mendeteksi bahwa model sudah tidak bisa belajar lebih baik lagi (karena val_loss tidak kunjung membaik secara signifikan), lalu menghentikan proses untuk menghemat waktu dan mencegah overfitting.\n",
        "- Dari log diatas, kita bisa melihat bahwa performa terbaik model pada data validasi (yang mensimulasikan data baru) memiliki Mean Absolute Error sekitar 2.46 - 2.5 hari.\n",
        "- tidak ada tanda overfitting karena val_loss tidak pernah melambung tinggi secara tidak terkendali sementara loss terus turun."
      ],
      "metadata": {
        "id": "4fCNNia2m_jr"
      }
    },
    {
      "cell_type": "markdown",
      "source": [
        "## Evaluasi Model"
      ],
      "metadata": {
        "id": "u3zIZjJlZBpf"
      }
    },
    {
      "cell_type": "code",
      "source": [
        "print(\"\\n--- Hasil Evaluasi Model (Keras) ---\")\n",
        "loss, mae = model.evaluate(X_test_scaled, y_test, verbose=0)\n",
        "y_pred = model.predict(X_test_scaled).flatten()\n",
        "r2 = r2_score(y_test, y_pred)\n",
        "print(f\"Model selesai dilatih dalam {len(history.history['loss'])} epochs.\")\n",
        "print(f\"Mean Absolute Error (MAE): {mae:.2f} hari\")\n",
        "print(f\"R2 Score: {r2:.2%}\")"
      ],
      "metadata": {
        "colab": {
          "base_uri": "https://localhost:8080/"
        },
        "id": "hu8vMaAwR1YP",
        "outputId": "522054d3-668b-4753-825d-adc6b0b48695"
      },
      "execution_count": 18,
      "outputs": [
        {
          "output_type": "stream",
          "name": "stdout",
          "text": [
            "\n",
            "--- Hasil Evaluasi Model (Keras) ---\n",
            "\u001b[1m65/65\u001b[0m \u001b[32m━━━━━━━━━━━━━━━━━━━━\u001b[0m\u001b[37m\u001b[0m \u001b[1m0s\u001b[0m 4ms/step\n",
            "Model selesai dilatih dalam 51 epochs.\n",
            "Mean Absolute Error (MAE): 2.45 hari\n",
            "R2 Score: 96.33%\n"
          ]
        }
      ]
    },
    {
      "cell_type": "markdown",
      "source": [
        "> - Proses training berhenti setelah 51 putaran, bukan sampai 200. Ini adalah hasil yang bagus. Ini menunjukkan EarlyStopping bekerja dengan efisien, menghentikan training karena model sudah mencapai performa puncaknya dan tidak bisa belajar lebih baik lagi.\n",
        "- Secara rata-rata, prediksi yang dibuat oleh model memiliki kesalahan (meleset) sekitar 2.45 hari dari waktu panen yang sebenarnya. Untuk kasus prediksi panen yang bisa memakan waktu berbulan-bulan, kesalahan yang hanya 2-3 hari ini tergolong sangat kecil dan akurat.\n",
        "- R2 Score: 96.33%. artinya, 96.33% dari variasi atau perubahan pada waktu panen (days_to_harvest) dapat dijelaskan oleh fitur-fitur sensor (Temperature, Humidity, dll.) yang digunakan. ini menunjukkan bahwa model memiliki kemampuan prediksi yang luar biasa kuat. Ada hubungan yang sangat erat antara input yang diberikan dan output yang dihasilkan model."
      ],
      "metadata": {
        "id": "NG_z3cTwnrh4"
      }
    },
    {
      "cell_type": "markdown",
      "source": [
        "## Visualisasi"
      ],
      "metadata": {
        "id": "XRRBhJi_ZKRO"
      }
    },
    {
      "cell_type": "code",
      "source": [
        "plt.figure(figsize=(8, 6))\n",
        "plt.scatter(y_test, y_pred, alpha=0.6, edgecolors='k')\n",
        "plt.plot([y_test.min(), y_test.max()], [y_test.min(), y_test.max()], 'r--', lw=2)\n",
        "plt.xlabel('Target Days to Harvest (Actual)')\n",
        "plt.ylabel('Predicted Days to Harvest')\n",
        "plt.title('Actual vs Predicted Days to Harvest')\n",
        "plt.grid(True)\n",
        "plt.tight_layout()\n",
        "plt.show()"
      ],
      "metadata": {
        "colab": {
          "base_uri": "https://localhost:8080/",
          "height": 489
        },
        "id": "QLnd4W0lR4Z3",
        "outputId": "64a2d86e-497c-4ebf-e00c-cd166657ee36"
      },
      "execution_count": 19,
      "outputs": [
        {
          "output_type": "display_data",
          "data": {
            "text/plain": [
              "<Figure size 800x600 with 1 Axes>"
            ],
            "image/png": "[encoded data removed]"
          },
          "metadata": {}
        }
      ]
    },
    {
      "cell_type": "markdown",
      "source": [
        "> Grafik diatas menunjukkan hasil yang sangat baik.\n",
        "- Hampir semua titik biru menempel atau berada sangat dekat dengan garis merah.Ini membuktikan bahwa Prediksi Sangat Mendekati Kenyataan.\n",
        "-  Titik-titik membentuk sebuah pola garis lurus yang sangat jelas. Ini menandakan bahwa jika nilai aktualnya naik, nilai prediksinya juga akan naik secara konsisten.\n",
        "- Jarak rata-rata yang pendek dari setiap titik ke garis merah adalah MAE (Mean Absolute Error) Anda yang rendah (sekitar 2.45 hari).\n",
        "- Kumpulan titik yang membentuk garis lurus yang rapat ini adalah cerminan dari R² Score Anda yang tinggi (96.33%)."
      ],
      "metadata": {
        "id": "460Al3ABoa62"
      }
    },
    {
      "cell_type": "markdown",
      "source": [
        "## Save Model"
      ],
      "metadata": {
        "id": "DG9JijCbZMnO"
      }
    },
    {
      "cell_type": "code",
      "source": [
        "model.export(\"saved_model\")"
      ],
      "metadata": {
        "colab": {
          "base_uri": "https://localhost:8080/"
        },
        "id": "dJkly6B9R8W5",
        "outputId": "91cb0548-f512-472e-a445-16a12c4a7ddc"
      },
      "execution_count": 20,
      "outputs": [
        {
          "output_type": "stream",
          "name": "stdout",
          "text": [
            "Saved artifact at 'saved_model'. The following endpoints are available:\n",
            "\n",
            "* Endpoint 'serve'\n",
            "  args_0 (POSITIONAL_ONLY): TensorSpec(shape=(None, 4), dtype=tf.float32, name='keras_tensor')\n",
            "Output Type:\n",
            "  TensorSpec(shape=(None, 1), dtype=tf.float32, name=None)\n",
            "Captures:\n",
            "  133507947220624: TensorSpec(shape=(), dtype=tf.resource, name=None)\n",
            "  133507947221776: TensorSpec(shape=(), dtype=tf.resource, name=None)\n",
            "  133507947221008: TensorSpec(shape=(), dtype=tf.resource, name=None)\n",
            "  133507947222160: TensorSpec(shape=(), dtype=tf.resource, name=None)\n",
            "  133507947218512: TensorSpec(shape=(), dtype=tf.resource, name=None)\n",
            "  133507947218320: TensorSpec(shape=(), dtype=tf.resource, name=None)\n",
            "  133507947218896: TensorSpec(shape=(), dtype=tf.resource, name=None)\n",
            "  133507947221584: TensorSpec(shape=(), dtype=tf.resource, name=None)\n"
          ]
        }
      ]
    },
    {
      "cell_type": "markdown",
      "source": [
        "## Convert model ke TFJS"
      ],
      "metadata": {
        "id": "K6gllb3_ZQQJ"
      }
    },
    {
      "cell_type": "code",
      "source": [
        "saved_model_dir = \"/content/saved_model\"\n",
        "output_tfjs_dir = \"tfjs_model\""
      ],
      "metadata": {
        "id": "IPjt0tSXSN5-"
      },
      "execution_count": 27,
      "outputs": []
    },
    {
      "cell_type": "code",
      "source": [
        "tfjs.converters.convert_tf_saved_model(\n",
        "    saved_model_dir=saved_model_dir,\n",
        "    output_dir=output_tfjs_dir\n",
        ")"
      ],
      "metadata": {
        "id": "GOw27NbzTZ1A"
      },
      "execution_count": 28,
      "outputs": []
    }
  ]
}